{
  "cells": [
    {
      "metadata": {
        "_uuid": "ccf00a9c47324c387926b265c793f0cfa5635382"
      },
      "cell_type": "markdown",
      "source": "## Recap\nYou've built a model. In this exercise you will test how good your model is.\n\nRun the cell below to set up your coding environment where the previous exercise left off."
    },
    {
      "metadata": {
        "_uuid": "3e72a2059a16924d538d7f58414c63750f6f8a49",
        "trusted": true
      },
      "cell_type": "code",
      "source": "# Code you have previously used to load data\nimport pandas as pd\nfrom sklearn.tree import DecisionTreeRegressor\n\n# Path of the file to read\niowa_file_path = '../input/home-data-for-ml-course/train.csv'\n\nhome_data = pd.read_csv(iowa_file_path)\ny = home_data.SalePrice\nfeature_columns = ['LotArea', 'YearBuilt', '1stFlrSF', '2ndFlrSF', 'FullBath', 'BedroomAbvGr', 'TotRmsAbvGrd']\nX = home_data[feature_columns]\n\n# Specify Model\niowa_model = DecisionTreeRegressor()\n# Fit Model\niowa_model.fit(X, y)\n\nprint(\"First in-sample predictions:\", iowa_model.predict(X.head()))\nprint(\"Actual target values for those homes:\", y.head().tolist())\n\n# Set up code checking\nfrom learntools.core import binder\nbinder.bind(globals())\nfrom learntools.machine_learning.ex4 import *\nprint(\"Setup Complete\")\n# home_data.head()",
      "execution_count": 11,
      "outputs": [
        {
          "output_type": "stream",
          "text": "WARNING:root:Ignoring repeated attempt to bind to globals\n",
          "name": "stderr"
        },
        {
          "output_type": "stream",
          "text": "First in-sample predictions: [208500. 181500. 223500. 140000. 250000.]\nActual target values for those homes: [208500, 181500, 223500, 140000, 250000]\nSetup Complete\n",
          "name": "stdout"
        },
        {
          "output_type": "execute_result",
          "execution_count": 11,
          "data": {
            "text/plain": "   Id  MSSubClass MSZoning    ...     SaleType  SaleCondition SalePrice\n0   1          60       RL    ...           WD         Normal    208500\n1   2          20       RL    ...           WD         Normal    181500\n2   3          60       RL    ...           WD         Normal    223500\n3   4          70       RL    ...           WD        Abnorml    140000\n4   5          60       RL    ...           WD         Normal    250000\n\n[5 rows x 81 columns]",
            "text/html": "<div>\n<style scoped>\n    .dataframe tbody tr th:only-of-type {\n        vertical-align: middle;\n    }\n\n    .dataframe tbody tr th {\n        vertical-align: top;\n    }\n\n    .dataframe thead th {\n        text-align: right;\n    }\n</style>\n<table border=\"1\" class=\"dataframe\">\n  <thead>\n    <tr style=\"text-align: right;\">\n      <th></th>\n      <th>Id</th>\n      <th>MSSubClass</th>\n      <th>MSZoning</th>\n      <th>LotFrontage</th>\n      <th>LotArea</th>\n      <th>Street</th>\n      <th>Alley</th>\n      <th>LotShape</th>\n      <th>LandContour</th>\n      <th>Utilities</th>\n      <th>LotConfig</th>\n      <th>LandSlope</th>\n      <th>Neighborhood</th>\n      <th>Condition1</th>\n      <th>Condition2</th>\n      <th>BldgType</th>\n      <th>HouseStyle</th>\n      <th>OverallQual</th>\n      <th>OverallCond</th>\n      <th>YearBuilt</th>\n      <th>YearRemodAdd</th>\n      <th>RoofStyle</th>\n      <th>RoofMatl</th>\n      <th>Exterior1st</th>\n      <th>Exterior2nd</th>\n      <th>MasVnrType</th>\n      <th>MasVnrArea</th>\n      <th>ExterQual</th>\n      <th>ExterCond</th>\n      <th>Foundation</th>\n      <th>BsmtQual</th>\n      <th>BsmtCond</th>\n      <th>BsmtExposure</th>\n      <th>BsmtFinType1</th>\n      <th>BsmtFinSF1</th>\n      <th>BsmtFinType2</th>\n      <th>BsmtFinSF2</th>\n      <th>BsmtUnfSF</th>\n      <th>TotalBsmtSF</th>\n      <th>Heating</th>\n      <th>...</th>\n      <th>CentralAir</th>\n      <th>Electrical</th>\n      <th>1stFlrSF</th>\n      <th>2ndFlrSF</th>\n      <th>LowQualFinSF</th>\n      <th>GrLivArea</th>\n      <th>BsmtFullBath</th>\n      <th>BsmtHalfBath</th>\n      <th>FullBath</th>\n      <th>HalfBath</th>\n      <th>BedroomAbvGr</th>\n      <th>KitchenAbvGr</th>\n      <th>KitchenQual</th>\n      <th>TotRmsAbvGrd</th>\n      <th>Functional</th>\n      <th>Fireplaces</th>\n      <th>FireplaceQu</th>\n      <th>GarageType</th>\n      <th>GarageYrBlt</th>\n      <th>GarageFinish</th>\n      <th>GarageCars</th>\n      <th>GarageArea</th>\n      <th>GarageQual</th>\n      <th>GarageCond</th>\n      <th>PavedDrive</th>\n      <th>WoodDeckSF</th>\n      <th>OpenPorchSF</th>\n      <th>EnclosedPorch</th>\n      <th>3SsnPorch</th>\n      <th>ScreenPorch</th>\n      <th>PoolArea</th>\n      <th>PoolQC</th>\n      <th>Fence</th>\n      <th>MiscFeature</th>\n      <th>MiscVal</th>\n      <th>MoSold</th>\n      <th>YrSold</th>\n      <th>SaleType</th>\n      <th>SaleCondition</th>\n      <th>SalePrice</th>\n    </tr>\n  </thead>\n  <tbody>\n    <tr>\n      <th>0</th>\n      <td>1</td>\n      <td>60</td>\n      <td>RL</td>\n      <td>65.0</td>\n      <td>8450</td>\n      <td>Pave</td>\n      <td>NaN</td>\n      <td>Reg</td>\n      <td>Lvl</td>\n      <td>AllPub</td>\n      <td>Inside</td>\n      <td>Gtl</td>\n      <td>CollgCr</td>\n      <td>Norm</td>\n      <td>Norm</td>\n      <td>1Fam</td>\n      <td>2Story</td>\n      <td>7</td>\n      <td>5</td>\n      <td>2003</td>\n      <td>2003</td>\n      <td>Gable</td>\n      <td>CompShg</td>\n      <td>VinylSd</td>\n      <td>VinylSd</td>\n      <td>BrkFace</td>\n      <td>196.0</td>\n      <td>Gd</td>\n      <td>TA</td>\n      <td>PConc</td>\n      <td>Gd</td>\n      <td>TA</td>\n      <td>No</td>\n      <td>GLQ</td>\n      <td>706</td>\n      <td>Unf</td>\n      <td>0</td>\n      <td>150</td>\n      <td>856</td>\n      <td>GasA</td>\n      <td>...</td>\n      <td>Y</td>\n      <td>SBrkr</td>\n      <td>856</td>\n      <td>854</td>\n      <td>0</td>\n      <td>1710</td>\n      <td>1</td>\n      <td>0</td>\n      <td>2</td>\n      <td>1</td>\n      <td>3</td>\n      <td>1</td>\n      <td>Gd</td>\n      <td>8</td>\n      <td>Typ</td>\n      <td>0</td>\n      <td>NaN</td>\n      <td>Attchd</td>\n      <td>2003.0</td>\n      <td>RFn</td>\n      <td>2</td>\n      <td>548</td>\n      <td>TA</td>\n      <td>TA</td>\n      <td>Y</td>\n      <td>0</td>\n      <td>61</td>\n      <td>0</td>\n      <td>0</td>\n      <td>0</td>\n      <td>0</td>\n      <td>NaN</td>\n      <td>NaN</td>\n      <td>NaN</td>\n      <td>0</td>\n      <td>2</td>\n      <td>2008</td>\n      <td>WD</td>\n      <td>Normal</td>\n      <td>208500</td>\n    </tr>\n    <tr>\n      <th>1</th>\n      <td>2</td>\n      <td>20</td>\n      <td>RL</td>\n      <td>80.0</td>\n      <td>9600</td>\n      <td>Pave</td>\n      <td>NaN</td>\n      <td>Reg</td>\n      <td>Lvl</td>\n      <td>AllPub</td>\n      <td>FR2</td>\n      <td>Gtl</td>\n      <td>Veenker</td>\n      <td>Feedr</td>\n      <td>Norm</td>\n      <td>1Fam</td>\n      <td>1Story</td>\n      <td>6</td>\n      <td>8</td>\n      <td>1976</td>\n      <td>1976</td>\n      <td>Gable</td>\n      <td>CompShg</td>\n      <td>MetalSd</td>\n      <td>MetalSd</td>\n      <td>None</td>\n      <td>0.0</td>\n      <td>TA</td>\n      <td>TA</td>\n      <td>CBlock</td>\n      <td>Gd</td>\n      <td>TA</td>\n      <td>Gd</td>\n      <td>ALQ</td>\n      <td>978</td>\n      <td>Unf</td>\n      <td>0</td>\n      <td>284</td>\n      <td>1262</td>\n      <td>GasA</td>\n      <td>...</td>\n      <td>Y</td>\n      <td>SBrkr</td>\n      <td>1262</td>\n      <td>0</td>\n      <td>0</td>\n      <td>1262</td>\n      <td>0</td>\n      <td>1</td>\n      <td>2</td>\n      <td>0</td>\n      <td>3</td>\n      <td>1</td>\n      <td>TA</td>\n      <td>6</td>\n      <td>Typ</td>\n      <td>1</td>\n      <td>TA</td>\n      <td>Attchd</td>\n      <td>1976.0</td>\n      <td>RFn</td>\n      <td>2</td>\n      <td>460</td>\n      <td>TA</td>\n      <td>TA</td>\n      <td>Y</td>\n      <td>298</td>\n      <td>0</td>\n      <td>0</td>\n      <td>0</td>\n      <td>0</td>\n      <td>0</td>\n      <td>NaN</td>\n      <td>NaN</td>\n      <td>NaN</td>\n      <td>0</td>\n      <td>5</td>\n      <td>2007</td>\n      <td>WD</td>\n      <td>Normal</td>\n      <td>181500</td>\n    </tr>\n    <tr>\n      <th>2</th>\n      <td>3</td>\n      <td>60</td>\n      <td>RL</td>\n      <td>68.0</td>\n      <td>11250</td>\n      <td>Pave</td>\n      <td>NaN</td>\n      <td>IR1</td>\n      <td>Lvl</td>\n      <td>AllPub</td>\n      <td>Inside</td>\n      <td>Gtl</td>\n      <td>CollgCr</td>\n      <td>Norm</td>\n      <td>Norm</td>\n      <td>1Fam</td>\n      <td>2Story</td>\n      <td>7</td>\n      <td>5</td>\n      <td>2001</td>\n      <td>2002</td>\n      <td>Gable</td>\n      <td>CompShg</td>\n      <td>VinylSd</td>\n      <td>VinylSd</td>\n      <td>BrkFace</td>\n      <td>162.0</td>\n      <td>Gd</td>\n      <td>TA</td>\n      <td>PConc</td>\n      <td>Gd</td>\n      <td>TA</td>\n      <td>Mn</td>\n      <td>GLQ</td>\n      <td>486</td>\n      <td>Unf</td>\n      <td>0</td>\n      <td>434</td>\n      <td>920</td>\n      <td>GasA</td>\n      <td>...</td>\n      <td>Y</td>\n      <td>SBrkr</td>\n      <td>920</td>\n      <td>866</td>\n      <td>0</td>\n      <td>1786</td>\n      <td>1</td>\n      <td>0</td>\n      <td>2</td>\n      <td>1</td>\n      <td>3</td>\n      <td>1</td>\n      <td>Gd</td>\n      <td>6</td>\n      <td>Typ</td>\n      <td>1</td>\n      <td>TA</td>\n      <td>Attchd</td>\n      <td>2001.0</td>\n      <td>RFn</td>\n      <td>2</td>\n      <td>608</td>\n      <td>TA</td>\n      <td>TA</td>\n      <td>Y</td>\n      <td>0</td>\n      <td>42</td>\n      <td>0</td>\n      <td>0</td>\n      <td>0</td>\n      <td>0</td>\n      <td>NaN</td>\n      <td>NaN</td>\n      <td>NaN</td>\n      <td>0</td>\n      <td>9</td>\n      <td>2008</td>\n      <td>WD</td>\n      <td>Normal</td>\n      <td>223500</td>\n    </tr>\n    <tr>\n      <th>3</th>\n      <td>4</td>\n      <td>70</td>\n      <td>RL</td>\n      <td>60.0</td>\n      <td>9550</td>\n      <td>Pave</td>\n      <td>NaN</td>\n      <td>IR1</td>\n      <td>Lvl</td>\n      <td>AllPub</td>\n      <td>Corner</td>\n      <td>Gtl</td>\n      <td>Crawfor</td>\n      <td>Norm</td>\n      <td>Norm</td>\n      <td>1Fam</td>\n      <td>2Story</td>\n      <td>7</td>\n      <td>5</td>\n      <td>1915</td>\n      <td>1970</td>\n      <td>Gable</td>\n      <td>CompShg</td>\n      <td>Wd Sdng</td>\n      <td>Wd Shng</td>\n      <td>None</td>\n      <td>0.0</td>\n      <td>TA</td>\n      <td>TA</td>\n      <td>BrkTil</td>\n      <td>TA</td>\n      <td>Gd</td>\n      <td>No</td>\n      <td>ALQ</td>\n      <td>216</td>\n      <td>Unf</td>\n      <td>0</td>\n      <td>540</td>\n      <td>756</td>\n      <td>GasA</td>\n      <td>...</td>\n      <td>Y</td>\n      <td>SBrkr</td>\n      <td>961</td>\n      <td>756</td>\n      <td>0</td>\n      <td>1717</td>\n      <td>1</td>\n      <td>0</td>\n      <td>1</td>\n      <td>0</td>\n      <td>3</td>\n      <td>1</td>\n      <td>Gd</td>\n      <td>7</td>\n      <td>Typ</td>\n      <td>1</td>\n      <td>Gd</td>\n      <td>Detchd</td>\n      <td>1998.0</td>\n      <td>Unf</td>\n      <td>3</td>\n      <td>642</td>\n      <td>TA</td>\n      <td>TA</td>\n      <td>Y</td>\n      <td>0</td>\n      <td>35</td>\n      <td>272</td>\n      <td>0</td>\n      <td>0</td>\n      <td>0</td>\n      <td>NaN</td>\n      <td>NaN</td>\n      <td>NaN</td>\n      <td>0</td>\n      <td>2</td>\n      <td>2006</td>\n      <td>WD</td>\n      <td>Abnorml</td>\n      <td>140000</td>\n    </tr>\n    <tr>\n      <th>4</th>\n      <td>5</td>\n      <td>60</td>\n      <td>RL</td>\n      <td>84.0</td>\n      <td>14260</td>\n      <td>Pave</td>\n      <td>NaN</td>\n      <td>IR1</td>\n      <td>Lvl</td>\n      <td>AllPub</td>\n      <td>FR2</td>\n      <td>Gtl</td>\n      <td>NoRidge</td>\n      <td>Norm</td>\n      <td>Norm</td>\n      <td>1Fam</td>\n      <td>2Story</td>\n      <td>8</td>\n      <td>5</td>\n      <td>2000</td>\n      <td>2000</td>\n      <td>Gable</td>\n      <td>CompShg</td>\n      <td>VinylSd</td>\n      <td>VinylSd</td>\n      <td>BrkFace</td>\n      <td>350.0</td>\n      <td>Gd</td>\n      <td>TA</td>\n      <td>PConc</td>\n      <td>Gd</td>\n      <td>TA</td>\n      <td>Av</td>\n      <td>GLQ</td>\n      <td>655</td>\n      <td>Unf</td>\n      <td>0</td>\n      <td>490</td>\n      <td>1145</td>\n      <td>GasA</td>\n      <td>...</td>\n      <td>Y</td>\n      <td>SBrkr</td>\n      <td>1145</td>\n      <td>1053</td>\n      <td>0</td>\n      <td>2198</td>\n      <td>1</td>\n      <td>0</td>\n      <td>2</td>\n      <td>1</td>\n      <td>4</td>\n      <td>1</td>\n      <td>Gd</td>\n      <td>9</td>\n      <td>Typ</td>\n      <td>1</td>\n      <td>TA</td>\n      <td>Attchd</td>\n      <td>2000.0</td>\n      <td>RFn</td>\n      <td>3</td>\n      <td>836</td>\n      <td>TA</td>\n      <td>TA</td>\n      <td>Y</td>\n      <td>192</td>\n      <td>84</td>\n      <td>0</td>\n      <td>0</td>\n      <td>0</td>\n      <td>0</td>\n      <td>NaN</td>\n      <td>NaN</td>\n      <td>NaN</td>\n      <td>0</td>\n      <td>12</td>\n      <td>2008</td>\n      <td>WD</td>\n      <td>Normal</td>\n      <td>250000</td>\n    </tr>\n  </tbody>\n</table>\n</div>"
          },
          "metadata": {}
        }
      ]
    },
    {
      "metadata": {
        "_uuid": "2b8fed537f244678fb1fb356b978af9c6871f70b"
      },
      "cell_type": "markdown",
      "source": "# Exercises\n\n## Step 1: Split Your Data\nUse the `train_test_split` function to split up your data.\n\nGive it the argument `random_state=1` so the `check` functions know what to expect when verifying your code.\n\nRecall, your features are loaded in the DataFrame **X** and your target is loaded in **y**.\n"
    },
    {
      "metadata": {
        "_uuid": "5a8faa82ef74af1548339880f7f5d5d0d82086b9",
        "trusted": true
      },
      "cell_type": "code",
      "source": "# Import the train_test_split function\nfrom sklearn.model_selection import train_test_split\n\ntrain_X, val_X, train_y, val_y = train_test_split(X, y, random_state=1)\n\nstep_1.check()",
      "execution_count": 2,
      "outputs": [
        {
          "output_type": "display_data",
          "data": {
            "text/plain": "<IPython.core.display.Javascript object>",
            "application/javascript": "parent.postMessage({\"jupyterEvent\": \"custom.exercise_interaction\", \"data\": {\"outcomeType\": 1, \"valueTowardsCompletion\": 0.25, \"interactionType\": 1, \"learnTutorialId\": 119, \"questionId\": \"1_SplitData\", \"learnToolsVersion\": \"0.2.2\", \"failureMessage\": \"\", \"exceptionClass\": \"\", \"trace\": \"\"}}, \"*\")"
          },
          "metadata": {}
        },
        {
          "output_type": "display_data",
          "data": {
            "text/plain": "Correct",
            "text/markdown": "<span style=\"color:#33cc33\">Correct</span>"
          },
          "metadata": {}
        }
      ]
    },
    {
      "metadata": {
        "_uuid": "687a83b980350cee3774618e2cbdc506679ea979",
        "trusted": false
      },
      "cell_type": "code",
      "source": "# The lines below will show you a hint or the solution.\n# step_1.hint() \n# step_1.solution()\n",
      "execution_count": null,
      "outputs": []
    },
    {
      "metadata": {
        "_uuid": "c9bcee47d390701a3807d688aa919d7d674cc759"
      },
      "cell_type": "markdown",
      "source": "## Step 2: Specify and Fit the Model\n\nCreate a `DecisionTreeRegressor` model and fit it to the relevant data.\nSet `random_state` to 1 again when creating the model."
    },
    {
      "metadata": {
        "_uuid": "c6576bad4d95b9ca170f092e7c37f060e5676421",
        "trusted": true
      },
      "cell_type": "code",
      "source": "# You imported DecisionTreeRegressor in your last exercise\n# and that code has been copied to the setup code above. So, no need to\n# import it again\n\n# Specify the model\niowa_model = DecisionTreeRegressor(random_state=1)\n\n# Fit iowa_model with the training data.\niowa_model.fit(train_X, train_y)\nstep_2.check()",
      "execution_count": 3,
      "outputs": [
        {
          "output_type": "stream",
          "text": "[186500. 184000. 130000.  92000. 164500. 220000. 335000. 144152. 215000.\n 262000.]\n[186500. 184000. 130000.  92000. 164500. 220000. 335000. 144152. 215000.\n 262000.]\n",
          "name": "stdout"
        },
        {
          "output_type": "display_data",
          "data": {
            "text/plain": "<IPython.core.display.Javascript object>",
            "application/javascript": "parent.postMessage({\"jupyterEvent\": \"custom.exercise_interaction\", \"data\": {\"outcomeType\": 1, \"valueTowardsCompletion\": 0.25, \"interactionType\": 1, \"learnTutorialId\": 119, \"questionId\": \"2_FitModelWithTrain\", \"learnToolsVersion\": \"0.2.2\", \"failureMessage\": \"\", \"exceptionClass\": \"\", \"trace\": \"\"}}, \"*\")"
          },
          "metadata": {}
        },
        {
          "output_type": "display_data",
          "data": {
            "text/plain": "Correct",
            "text/markdown": "<span style=\"color:#33cc33\">Correct</span>"
          },
          "metadata": {}
        }
      ]
    },
    {
      "metadata": {
        "_uuid": "0056567d7df6a9e4938199b939a16d83b2e0a54d",
        "trusted": false
      },
      "cell_type": "code",
      "source": "# step_2.hint()\n# step_2.solution()",
      "execution_count": null,
      "outputs": []
    },
    {
      "metadata": {
        "_uuid": "6df0f9c9dc7f74153634b8df8e1a116ca69ffac5"
      },
      "cell_type": "markdown",
      "source": "## Step 3: Make Predictions with Validation data\n"
    },
    {
      "metadata": {
        "_uuid": "40ec47b3ed8ca610e88fbf55f1ec111a5f06182f",
        "trusted": true
      },
      "cell_type": "code",
      "source": "# Predict with all validation observations\nval_predictions = iowa_model.predict(val_X)\n\nstep_3.check()",
      "execution_count": 5,
      "outputs": [
        {
          "output_type": "display_data",
          "data": {
            "text/plain": "<IPython.core.display.Javascript object>",
            "application/javascript": "parent.postMessage({\"jupyterEvent\": \"custom.exercise_interaction\", \"data\": {\"outcomeType\": 1, \"valueTowardsCompletion\": 0.25, \"interactionType\": 1, \"learnTutorialId\": 119, \"questionId\": \"3_ValPreds\", \"learnToolsVersion\": \"0.2.2\", \"failureMessage\": \"\", \"exceptionClass\": \"\", \"trace\": \"\"}}, \"*\")"
          },
          "metadata": {}
        },
        {
          "output_type": "display_data",
          "data": {
            "text/plain": "Correct",
            "text/markdown": "<span style=\"color:#33cc33\">Correct</span>"
          },
          "metadata": {}
        }
      ]
    },
    {
      "metadata": {
        "_uuid": "992a1a202cc17e71cee6120c7f5aab7f0e70aa1b",
        "trusted": false
      },
      "cell_type": "code",
      "source": "# step_3.hint()\n# step_3.solution()",
      "execution_count": null,
      "outputs": []
    },
    {
      "metadata": {
        "_uuid": "f03d025b1b3d537d657967f61ba5c11e693f53db"
      },
      "cell_type": "markdown",
      "source": "Inspect your predictions and actual values from validation data."
    },
    {
      "metadata": {
        "_uuid": "6ff5313561926dee197a101e6b3b4a8609365bbd",
        "trusted": true
      },
      "cell_type": "code",
      "source": "# print the top few validation predictions\nprint(val_predictions[:5])\n# print the top few actual prices from validation data\nprint(val_y.head())",
      "execution_count": 19,
      "outputs": [
        {
          "output_type": "stream",
          "text": "[186500. 184000. 130000.  92000. 164500.]\n258     231500\n267     179500\n288     122000\n649      84500\n1233    142000\nName: SalePrice, dtype: int64\n",
          "name": "stdout"
        }
      ]
    },
    {
      "metadata": {
        "_uuid": "7e2a9f31be20fb072b0d12f9170ba00d28bd443f"
      },
      "cell_type": "markdown",
      "source": "What do you notice that is different from what you saw with in-sample predictions (which are printed after the top code cell in this page).\n\nDo you remember why validation predictions differ from in-sample (or training) predictions? This is an important idea from the last lesson.\n\n## Step 4: Calculate the Mean Absolute Error in Validation Data\n"
    },
    {
      "metadata": {
        "_uuid": "2b10cff2a02330f47ac0785fe84be936d6adc3ed",
        "trusted": true
      },
      "cell_type": "code",
      "source": "from sklearn.metrics import mean_absolute_error\nval_mae = mean_absolute_error(val_y, val_predictions)\n\n# uncomment following line to see the validation_mae\nprint(val_mae)\nstep_4.check()",
      "execution_count": 21,
      "outputs": [
        {
          "output_type": "stream",
          "text": "29652.931506849316\n",
          "name": "stdout"
        },
        {
          "output_type": "display_data",
          "data": {
            "text/plain": "<IPython.core.display.Javascript object>",
            "application/javascript": "parent.postMessage({\"jupyterEvent\": \"custom.exercise_interaction\", \"data\": {\"outcomeType\": 1, \"valueTowardsCompletion\": 0.25, \"interactionType\": 1, \"learnTutorialId\": 119, \"questionId\": \"4_MAE\", \"learnToolsVersion\": \"0.2.2\", \"failureMessage\": \"\", \"exceptionClass\": \"\", \"trace\": \"\"}}, \"*\")"
          },
          "metadata": {}
        },
        {
          "output_type": "display_data",
          "data": {
            "text/plain": "Correct",
            "text/markdown": "<span style=\"color:#33cc33\">Correct</span>"
          },
          "metadata": {}
        }
      ]
    },
    {
      "metadata": {
        "_uuid": "b140451cb53186e63e65f45bfa663bf0ea9910d6",
        "trusted": false
      },
      "cell_type": "code",
      "source": "# step_4.hint()\n# step_4.solution()",
      "execution_count": null,
      "outputs": []
    },
    {
      "metadata": {
        "_uuid": "4eb7e470b7db8ab48fe4227002804c005ca08a65"
      },
      "cell_type": "markdown",
      "source": "Is that MAE good?  There isn't a general rule for what values are good that applies across applications. But you'll see how to use this number in the next step."
    },
    {
      "metadata": {
        "_uuid": "44907df3c864ce1f24268077c85f4dfabf0ace85"
      },
      "cell_type": "markdown",
      "source": "# Keep Going\n\nNow that you can measure model performance, you are ready to run some experiments comparing different models. The key is to understand **[Underfitting and Overfitting](https://www.kaggle.com/dansbecker/underfitting-and-overfitting)**. It's an especially fun part of machine learning. \n\n---\n**[Course Home Page](https://www.kaggle.com/learn/machine-learning)**\n\n\n"
    }
  ],
  "metadata": {
    "kernelspec": {
      "display_name": "Python 3",
      "language": "python",
      "name": "python3"
    },
    "language_info": {
      "name": "python",
      "version": "3.6.6",
      "mimetype": "text/x-python",
      "codemirror_mode": {
        "name": "ipython",
        "version": 3
      },
      "pygments_lexer": "ipython3",
      "nbconvert_exporter": "python",
      "file_extension": ".py"
    }
  },
  "nbformat": 4,
  "nbformat_minor": 1
}